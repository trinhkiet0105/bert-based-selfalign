{
 "cells": [
  {
   "cell_type": "code",
   "execution_count": 1,
   "metadata": {},
   "outputs": [],
   "source": [
    "import pandas as pd\n",
    "import numpy as np\n",
    "import random\n",
    "from tqdm import tqdm\n",
    "from transformers import AutoTokenizer, AutoModel\n",
    "import torch\n",
    "from sklearn.metrics.pairwise import cosine_similarity"
   ]
  },
  {
   "cell_type": "code",
   "execution_count": 2,
   "metadata": {},
   "outputs": [],
   "source": [
    "train_df = pd.read_csv('train_sent_emo.csv',encoding= 'utf-8') "
   ]
  },
  {
   "cell_type": "code",
   "execution_count": 3,
   "metadata": {},
   "outputs": [
    {
     "name": "stderr",
     "output_type": "stream",
     "text": [
      "Some weights of RobertaModel were not initialized from the model checkpoint at SamLowe/roberta-base-go_emotions and are newly initialized: ['roberta.pooler.dense.bias', 'roberta.pooler.dense.weight']\n",
      "You should probably TRAIN this model on a down-stream task to be able to use it for predictions and inference.\n",
      "Extracting Embeddings: 100%|██████████| 9989/9989 [05:13<00:00, 31.86it/s]\n"
     ]
    }
   ],
   "source": [
    "device = torch.device(\"cuda\" if torch.cuda.is_available() else \"cpu\")\n",
    "# Initialize the tokenizer and model\n",
    "tokenizer = AutoTokenizer.from_pretrained(\"SamLowe/roberta-base-go_emotions\")\n",
    "model = AutoModel.from_pretrained(\"SamLowe/roberta-base-go_emotions\")\n",
    "model.to(device)\n",
    "\n",
    "def get_embedding(text):\n",
    "    \"\"\"Get the embedding for a text.\"\"\"\n",
    "    inputs = tokenizer(text, return_tensors=\"pt\", truncation=True, padding=True, max_length=512)\n",
    "    inputs = {name: tensor.to(device) for name, tensor in inputs.items()}  # Move input tensors to GPU\n",
    "    with torch.no_grad():\n",
    "        outputs = model(**inputs)\n",
    "    return outputs.last_hidden_state[:, 0, :].squeeze().cpu().numpy()\n",
    "\n",
    "\n",
    "\n",
    "# Precompute embeddings for all utterances\n",
    "train_df['Embedding'] = [get_embedding(utterance) for utterance in tqdm(train_df['Utterance'], desc=\"Extracting Embeddings\")]"
   ]
  },
  {
   "cell_type": "code",
   "execution_count": 4,
   "metadata": {},
   "outputs": [
    {
     "name": "stderr",
     "output_type": "stream",
     "text": [
      "Generating Triplets:   0%|          | 0/9989 [00:00<?, ?it/s]"
     ]
    }
   ],
   "source": [
    "def calculate_distance(embedding1, embedding2):\n",
    "    \"\"\"Calculate cosine similarity between two embeddings using PyTorch on GPU.\"\"\"\n",
    "    # Move embeddings to GPU and add an extra batch dimension\n",
    "    embedding1 = torch.tensor(embedding1).unsqueeze(0).to(device)\n",
    "    embedding2 = torch.tensor(embedding2).unsqueeze(0).to(device)\n",
    "    \n",
    "    # Normalize the embeddings (for cosine similarity)\n",
    "    embedding1 = embedding1 / embedding1.norm(dim=-1, keepdim=True)\n",
    "    embedding2 = embedding2 / embedding2.norm(dim=-1, keepdim=True)\n",
    "    \n",
    "    # Calculate cosine similarity\n",
    "    cosine_sim = torch.nn.functional.cosine_similarity(embedding1, embedding2)\n",
    "    \n",
    "    return cosine_sim.item()\n",
    "\n",
    "\n",
    "def generate_all_triplets_with_criteria(data):\n",
    "    triplets = []\n",
    "\n",
    "    # Wrap the main loop with tqdm for progress bar\n",
    "    for _, anchor in tqdm(data.iterrows(), total=data.shape[0], desc=\"Generating Triplets\"):\n",
    "        positive_samples = data[data['Emotion'] == anchor['Emotion']]\n",
    "        negative_samples = data[data['Emotion'] != anchor['Emotion']]\n",
    "        \n",
    "        anchor_embedding = anchor['Embedding']\n",
    "\n",
    "        for _, positive in positive_samples.iterrows():\n",
    "            if positive['Utterance'] == anchor['Utterance']:\n",
    "                continue\n",
    "\n",
    "            positive_embedding = positive['Embedding']\n",
    "\n",
    "            for _, negative in negative_samples.iterrows():\n",
    "                negative_embedding = negative['Embedding']\n",
    "                \n",
    "                anchor_positive_distance = calculate_distance(anchor_embedding, positive_embedding)\n",
    "                anchor_negative_distance = calculate_distance(anchor_embedding, negative_embedding)\n",
    "\n",
    "                # Check semi-hard and easy triplet conditions\n",
    "                is_semi_hard = (anchor_positive_distance < anchor_negative_distance) and \\\n",
    "                               (anchor_negative_distance - anchor_positive_distance < 0.2)  # Adjust threshold as needed\n",
    "\n",
    "                is_easy = anchor_positive_distance < anchor_negative_distance\n",
    "\n",
    "                if is_semi_hard or is_easy:\n",
    "                    triplet = (anchor['Utterance'], positive['Utterance'], negative['Utterance'])\n",
    "                    triplets.append(triplet)\n",
    "\n",
    "    return pd.DataFrame(triplets, columns=['anchor', 'positive', 'negative'])\n",
    "\n",
    "# Generate all possible triplets with criteria\n",
    "triplet_data_all_criteria = generate_all_triplets_with_criteria(train_df)"
   ]
  },
  {
   "cell_type": "code",
   "execution_count": null,
   "metadata": {},
   "outputs": [],
   "source": [
    "triplet_data_all_criteria.to_csv('triplet_data_easy_and_semi_hard.csv',encoding='utf-8')"
   ]
  }
 ],
 "metadata": {
  "kernelspec": {
   "display_name": "myenv",
   "language": "python",
   "name": "python3"
  },
  "language_info": {
   "codemirror_mode": {
    "name": "ipython",
    "version": 3
   },
   "file_extension": ".py",
   "mimetype": "text/x-python",
   "name": "python",
   "nbconvert_exporter": "python",
   "pygments_lexer": "ipython3",
   "version": "3.10.9"
  },
  "orig_nbformat": 4
 },
 "nbformat": 4,
 "nbformat_minor": 2
}
