{
 "cells": [
  {
   "cell_type": "code",
   "execution_count": 1,
   "metadata": {},
   "outputs": [
    {
     "name": "stderr",
     "output_type": "stream",
     "text": [
      "d:\\bert-based-selfalign\\self_align_bert\\Lib\\site-packages\\tqdm\\auto.py:21: TqdmWarning: IProgress not found. Please update jupyter and ipywidgets. See https://ipywidgets.readthedocs.io/en/stable/user_install.html\n",
      "  from .autonotebook import tqdm as notebook_tqdm\n"
     ]
    }
   ],
   "source": [
    "import torch\n",
    "from torch.utils.data import DataLoader\n",
    "from transformers import AutoTokenizer, AutoModel\n",
    "from pytorch_metric_learning import miners, losses\n",
    "from torch.optim import AdamW\n",
    "from tqdm import tqdm\n",
    "from dataloader import get_MELD_dataloader\n",
    "import pandas as pd\n",
    "import numpy as np"
   ]
  },
  {
   "cell_type": "code",
   "execution_count": 2,
   "metadata": {},
   "outputs": [],
   "source": [
    "device = torch.device(\"cuda:0\" if torch.cuda.is_available() else \"cpu\")"
   ]
  },
  {
   "cell_type": "code",
   "execution_count": 3,
   "metadata": {},
   "outputs": [
    {
     "name": "stderr",
     "output_type": "stream",
     "text": [
      "Some weights of RobertaModel were not initialized from the model checkpoint at SamLowe/roberta-base-go_emotions and are newly initialized: ['roberta.pooler.dense.bias', 'roberta.pooler.dense.weight']\n",
      "You should probably TRAIN this model on a down-stream task to be able to use it for predictions and inference.\n"
     ]
    }
   ],
   "source": [
    "# Initialize the tokenizer\n",
    "tokenizer = AutoTokenizer.from_pretrained(\"SamLowe/roberta-base-go_emotions\")\n",
    "model = AutoModel.from_pretrained(\"SamLowe/roberta-base-go_emotions\")\n",
    "model.to(device)\n",
    "\n",
    "\n",
    "train_dataloader = get_MELD_dataloader(\n",
    "    \"D:/MELD/MELD.Raw/MELD.Raw/train_sent_emo.csv\",\n",
    "    tokenizer=tokenizer,\n",
    "    train = True\n",
    "    )\n",
    "\n",
    "dev_dataloader = get_MELD_dataloader(\n",
    "    \"D:/MELD/MELD.Raw/MELD.Raw/dev_sent_emo.csv\",\n",
    "    tokenizer=tokenizer,\n",
    "    train = False\n",
    "    )"
   ]
  },
  {
   "cell_type": "code",
   "execution_count": 4,
   "metadata": {},
   "outputs": [],
   "source": [
    "optimizer = torch.optim.AdamW(model.parameters(), lr=5e-5)\n",
    "miner = miners.MultiSimilarityMiner()\n",
    "criterion = losses.MultiSimilarityLoss(1,60,0.5)"
   ]
  },
  {
   "cell_type": "code",
   "execution_count": 5,
   "metadata": {},
   "outputs": [],
   "source": [
    "def train(dataloader,loss_func):\n",
    "    model.train()\n",
    "    losses = []\n",
    "    progress_bar = tqdm(dataloader, total=len(dataloader), position=0, leave=True)\n",
    "    for batch in progress_bar:\n",
    "        optimizer.zero_grad()\n",
    "        \n",
    "        input_ids = batch['input_ids'].to(device)\n",
    "        attention_mask = batch['attention_mask'].to(device)\n",
    "        labels = batch['labels'].to(device)\n",
    "        \n",
    "        outputs = model(input_ids, attention_mask=attention_mask)\n",
    "        embeddings = outputs.last_hidden_state.mean(dim=1)\n",
    "        \n",
    "        hard_pairs = miner(embeddings, labels)\n",
    "        \n",
    "        loss = loss_func(embeddings, labels, hard_pairs)\n",
    "        \n",
    "        loss.backward()\n",
    "        optimizer.step()\n",
    "\n",
    "        losses.append(loss.item())\n",
    "        avg_loss = np.mean(losses) if losses else 0.0\n",
    "        progress_bar.set_description(f\"[Train] Avg Loss: {avg_loss:.4f}, Loss: {loss.item():.4f}\")\n",
    "        \n",
    "    return np.mean(losses)\n",
    "\n",
    "def validation(dataloader,loss_func):\n",
    "    model.eval()\n",
    "    losses = []\n",
    "    progress_bar = tqdm(dataloader, total=len(dataloader), position=0, leave=True, desc=\"Evaluating\")\n",
    "    with torch.no_grad():\n",
    "        for batch in dev_dataloader:\n",
    "            input_ids = batch['input_ids'].to(device)\n",
    "            attention_mask = batch['attention_mask'].to(device)\n",
    "            labels = batch['labels'].to(device)\n",
    "            \n",
    "            outputs = model(input_ids, attention_mask=attention_mask)\n",
    "            embeddings = outputs.last_hidden_state.mean(dim=1)\n",
    "            \n",
    "            hard_pairs = miner(embeddings, labels)\n",
    "            \n",
    "            loss = loss_func(embeddings, labels, hard_pairs)\n",
    "            \n",
    "            losses.append(loss.item())\n",
    "            avg_loss = np.mean(losses) if losses else 0.0\n",
    "            progress_bar.set_description(f\"[Val] Avg Loss: {avg_loss:.4f}, Loss: {loss.item():.4f}\")\n",
    "        \n",
    "    return np.mean(losses)"
   ]
  },
  {
   "cell_type": "code",
   "execution_count": 6,
   "metadata": {},
   "outputs": [
    {
     "name": "stderr",
     "output_type": "stream",
     "text": [
      "[Train] Avg Loss: 1.5170, Loss: 0.5743: 100%|██████████| 625/625 [02:30<00:00,  4.15it/s]\n"
     ]
    },
    {
     "name": "stdout",
     "output_type": "stream",
     "text": [
      "Train Loss :1.51699901638031\n"
     ]
    },
    {
     "name": "stderr",
     "output_type": "stream",
     "text": [
      "[Val] Avg Loss: 1.5471, Loss: 0.0000:   0%|          | 0/70 [00:05<?, ?it/s]\n"
     ]
    },
    {
     "name": "stdout",
     "output_type": "stream",
     "text": [
      "Train Loss :1.547099541766303\n",
      "Validation loss improved from inf to 1.547099541766303. Saving model to model_best.pth\n"
     ]
    },
    {
     "name": "stderr",
     "output_type": "stream",
     "text": [
      "[Train] Avg Loss: 1.4921, Loss: 0.6548: 100%|██████████| 625/625 [02:33<00:00,  4.08it/s]\n"
     ]
    },
    {
     "name": "stdout",
     "output_type": "stream",
     "text": [
      "Train Loss :1.4920808530807494\n"
     ]
    },
    {
     "name": "stderr",
     "output_type": "stream",
     "text": [
      "[Val] Avg Loss: 1.5442, Loss: 0.0000:   0%|          | 0/70 [00:06<?, ?it/s]\n"
     ]
    },
    {
     "name": "stdout",
     "output_type": "stream",
     "text": [
      "Train Loss :1.5441982090473174\n",
      "Validation loss improved from 1.547099541766303 to 1.5441982090473174. Saving model to model_best.pth\n"
     ]
    },
    {
     "name": "stderr",
     "output_type": "stream",
     "text": [
      "[Train] Avg Loss: 1.5675, Loss: 1.5675:   0%|          | 1/625 [00:00<06:00,  1.73it/s]"
     ]
    }
   ],
   "source": [
    "# Training loop with validation\n",
    "num_epochs = 3\n",
    "\n",
    "best_val_loss = float('inf')\n",
    "\n",
    "for epoch in range(num_epochs):\n",
    "    train_loss = train(train_dataloader, loss_func = criterion)\n",
    "    print(f'Train Loss :{train_loss}')\n",
    "    \n",
    "    # Validation Phase\n",
    "    dev_loss = validation(dev_dataloader, loss_func = criterion)\n",
    "    print(f'Train Loss :{dev_loss}')\n",
    "    # Save the model if the validation loss has improved\n",
    "    if dev_loss  < best_val_loss:\n",
    "        print(f\"Validation loss improved from {best_val_loss} to {dev_loss}. Saving model to model_best.pth\")\n",
    "        best_val_loss = dev_loss \n",
    "        torch.save(model.state_dict(), \"model_best.pth\")"
   ]
  }
 ],
 "metadata": {
  "kernelspec": {
   "display_name": "self_align_bert",
   "language": "python",
   "name": "python3"
  },
  "language_info": {
   "codemirror_mode": {
    "name": "ipython",
    "version": 3
   },
   "file_extension": ".py",
   "mimetype": "text/x-python",
   "name": "python",
   "nbconvert_exporter": "python",
   "pygments_lexer": "ipython3",
   "version": "3.11.6"
  }
 },
 "nbformat": 4,
 "nbformat_minor": 2
}
